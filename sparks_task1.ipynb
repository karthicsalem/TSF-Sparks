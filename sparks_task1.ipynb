{
  "nbformat": 4,
  "nbformat_minor": 0,
  "metadata": {
    "colab": {
      "name": "sparks-task1.ipynb",
      "provenance": [],
      "collapsed_sections": []
    },
    "kernelspec": {
      "name": "python3",
      "display_name": "Python 3"
    },
    "language_info": {
      "name": "python"
    }
  },
  "cells": [
    {
      "cell_type": "markdown",
      "metadata": {
        "id": "ZRbN7Pyess7z"
      },
      "source": [
        "# Linear Regression with Python ScikitLearn"
      ]
    },
    {
      "cell_type": "markdown",
      "metadata": {
        "id": "gox_Jc-mpLAZ"
      },
      "source": [
        "# Importing Necessary Packages"
      ]
    },
    {
      "cell_type": "code",
      "metadata": {
        "id": "Yjg-RZrX5Urf"
      },
      "source": [
        "import pandas as pd\n",
        "import numpy as np\n",
        "import matplotlib.pyplot as plt\n",
        "import seaborn as sns\n",
        "%matplotlib inline\n",
        "from sklearn.model_selection import train_test_split\n",
        "from sklearn.linear_model import LinearRegression\n",
        "from sklearn import metrics "
      ],
      "execution_count": null,
      "outputs": []
    },
    {
      "cell_type": "markdown",
      "metadata": {
        "id": "RKmZoeKipV66"
      },
      "source": [
        "# Reading Data from Given Data Source"
      ]
    },
    {
      "cell_type": "code",
      "metadata": {
        "id": "KtJQfasq5cBR",
        "colab": {
          "base_uri": "https://localhost:8080/"
        },
        "outputId": "4ea6564a-03d1-4fb6-cfda-415266ff8680"
      },
      "source": [
        "df=pd.read_csv('https://raw.githubusercontent.com/AdiPersonalWorks/Random/master/student_scores%20-%20student_scores.csv')\n",
        "df.info()"
      ],
      "execution_count": null,
      "outputs": [
        {
          "output_type": "stream",
          "text": [
            "<class 'pandas.core.frame.DataFrame'>\n",
            "RangeIndex: 25 entries, 0 to 24\n",
            "Data columns (total 2 columns):\n",
            " #   Column  Non-Null Count  Dtype  \n",
            "---  ------  --------------  -----  \n",
            " 0   Hours   25 non-null     float64\n",
            " 1   Scores  25 non-null     int64  \n",
            "dtypes: float64(1), int64(1)\n",
            "memory usage: 528.0 bytes\n"
          ],
          "name": "stdout"
        }
      ]
    },
    {
      "cell_type": "markdown",
      "metadata": {
        "id": "V2pFFqw_qVai"
      },
      "source": [
        "# Looking at Sample Data"
      ]
    },
    {
      "cell_type": "code",
      "metadata": {
        "id": "VsecnzDq5kr1",
        "colab": {
          "base_uri": "https://localhost:8080/",
          "height": 195
        },
        "outputId": "1955c3b3-ccbe-420b-e2a9-72a7448778cc"
      },
      "source": [
        "df.sample(5)"
      ],
      "execution_count": null,
      "outputs": [
        {
          "output_type": "execute_result",
          "data": {
            "text/html": [
              "<div>\n",
              "<style scoped>\n",
              "    .dataframe tbody tr th:only-of-type {\n",
              "        vertical-align: middle;\n",
              "    }\n",
              "\n",
              "    .dataframe tbody tr th {\n",
              "        vertical-align: top;\n",
              "    }\n",
              "\n",
              "    .dataframe thead th {\n",
              "        text-align: right;\n",
              "    }\n",
              "</style>\n",
              "<table border=\"1\" class=\"dataframe\">\n",
              "  <thead>\n",
              "    <tr style=\"text-align: right;\">\n",
              "      <th></th>\n",
              "      <th>Hours</th>\n",
              "      <th>Scores</th>\n",
              "    </tr>\n",
              "  </thead>\n",
              "  <tbody>\n",
              "    <tr>\n",
              "      <th>5</th>\n",
              "      <td>1.5</td>\n",
              "      <td>20</td>\n",
              "    </tr>\n",
              "    <tr>\n",
              "      <th>20</th>\n",
              "      <td>2.7</td>\n",
              "      <td>30</td>\n",
              "    </tr>\n",
              "    <tr>\n",
              "      <th>15</th>\n",
              "      <td>8.9</td>\n",
              "      <td>95</td>\n",
              "    </tr>\n",
              "    <tr>\n",
              "      <th>12</th>\n",
              "      <td>4.5</td>\n",
              "      <td>41</td>\n",
              "    </tr>\n",
              "    <tr>\n",
              "      <th>3</th>\n",
              "      <td>8.5</td>\n",
              "      <td>75</td>\n",
              "    </tr>\n",
              "  </tbody>\n",
              "</table>\n",
              "</div>"
            ],
            "text/plain": [
              "    Hours  Scores\n",
              "5     1.5      20\n",
              "20    2.7      30\n",
              "15    8.9      95\n",
              "12    4.5      41\n",
              "3     8.5      75"
            ]
          },
          "metadata": {
            "tags": []
          },
          "execution_count": 19
        }
      ]
    },
    {
      "cell_type": "markdown",
      "metadata": {
        "id": "CdgAxwkwqZDy"
      },
      "source": [
        "##We have Identified Hours as Independent Variable and Score as Dependent Variable(Output) "
      ]
    },
    {
      "cell_type": "code",
      "metadata": {
        "id": "fsQ6ullSqUTf"
      },
      "source": [
        "input=df.loc[:,:'Hours'].values\n",
        "X=df.iloc[:-1].values\n",
        "output=df.loc[:,'Scores']"
      ],
      "execution_count": null,
      "outputs": []
    },
    {
      "cell_type": "markdown",
      "metadata": {
        "id": "XDA9HR7ewd6E"
      },
      "source": [
        "# Plotting Score vs Hours Studied\n"
      ]
    },
    {
      "cell_type": "code",
      "metadata": {
        "colab": {
          "base_uri": "https://localhost:8080/",
          "height": 285
        },
        "id": "puvJ-QY7qpiJ",
        "outputId": "6cf1f4a3-aa15-4d0d-ae24-fc41ce3443a1"
      },
      "source": [
        "sns.set_theme('notebook')\n",
        "df.plot(x='Hours',y='Scores',style='o')\n",
        "plt.ylabel('Score %')\n",
        "plt.xlabel('Time Studied(Hours)');"
      ],
      "execution_count": null,
      "outputs": [
        {
          "output_type": "display_data",
          "data": {
            "image/png": "[encoded data removed]",
            "text/plain": [
              "<Figure size 432x288 with 1 Axes>"
            ]
          },
          "metadata": {
            "tags": []
          }
        }
      ]
    },
    {
      "cell_type": "code",
      "metadata": {
        "id": "g3JHovC30SbI"
      },
      "source": [
        "X_train, X_test, y_train, y_test = train_test_split(input,output,test_size=0.2, random_state=0) "
      ],
      "execution_count": null,
      "outputs": []
    },
    {
      "cell_type": "code",
      "metadata": {
        "id": "trtj8jkHrGw6",
        "colab": {
          "base_uri": "https://localhost:8080/",
          "height": 268
        },
        "outputId": "499e0ccc-fe01-4e70-8d4f-1588aa654e2b"
      },
      "source": [
        "regressor = LinearRegression()  \n",
        "regressor.fit(X_train,y_train)\n",
        "regline = regressor.coef_*input+regressor.intercept_\n",
        "plt.plot(input,regline, color='#ef5423', label='Regression Line')\n",
        "plt.scatter(input,output, c='#58b970', label='Scatter Plot')\n",
        "plt.legend();"
      ],
      "execution_count": null,
      "outputs": [
        {
          "output_type": "display_data",
          "data": {
            "image/png": "[encoded data removed]",
            "text/plain": [
              "<Figure size 432x288 with 1 Axes>"
            ]
          },
          "metadata": {
            "tags": []
          }
        }
      ]
    },
    {
      "cell_type": "markdown",
      "metadata": {
        "id": "_7ChOLPUs4rv"
      },
      "source": [
        "# Predicting Score for 9.25 hours of study"
      ]
    },
    {
      "cell_type": "code",
      "metadata": {
        "colab": {
          "base_uri": "https://localhost:8080/"
        },
        "id": "LTCpPWHzsIXO",
        "outputId": "d7b8a0f6-f854-4ad5-dbaa-6b6dfb1dc2f0"
      },
      "source": [
        "ans=regressor.predict([[9.25]])\n",
        "print(\"Score Predicted for 9.25 hours of Study is:\",round(ans[0],2))"
      ],
      "execution_count": null,
      "outputs": [
        {
          "output_type": "stream",
          "text": [
            "Score Predicted for 9.25 hours of Study is: 93.69\n"
          ],
          "name": "stdout"
        }
      ]
    },
    {
      "cell_type": "markdown",
      "metadata": {
        "id": "njA8sdT4tg_I"
      },
      "source": [
        "# Finding Mean Absolute Error And R-Score"
      ]
    },
    {
      "cell_type": "code",
      "metadata": {
        "id": "boRVFmqJtVOd"
      },
      "source": [
        "mse=metrics.mean_absolute_error(output,regline)\n",
        "r2=metrics.r2_score(output,regline)"
      ],
      "execution_count": null,
      "outputs": []
    },
    {
      "cell_type": "code",
      "metadata": {
        "colab": {
          "base_uri": "https://localhost:8080/"
        },
        "id": "1yvLP18qt2UH",
        "outputId": "91038cf8-8f04-423a-d2d0-97bbcf161fa1"
      },
      "source": [
        "print('Mean Squared Error:',mse)\n",
        "print('R2 Score:',r2)"
      ],
      "execution_count": null,
      "outputs": [
        {
          "output_type": "stream",
          "text": [
            "Mean Squared Error: 4.986053347144894\n",
            "R2 Score: 0.9526947647057273\n"
          ],
          "name": "stdout"
        }
      ]
    },
    {
      "cell_type": "markdown",
      "metadata": {
        "id": "UjtaecBduECf"
      },
      "source": [
        "# We Can Conclude that this Linear Regressor is an Accurate Since We got a Very Low Mean-Square Error and A high R2 score-0.95 out of 1 "
      ]
    },
    {
      "cell_type": "code",
      "metadata": {
        "id": "gYx5f5tduX5w"
      },
      "source": [
        ""
      ],
      "execution_count": null,
      "outputs": []
    }
  ]
}